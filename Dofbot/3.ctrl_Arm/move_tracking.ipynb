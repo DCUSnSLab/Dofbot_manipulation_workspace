{
 "cells": [
  {
   "cell_type": "code",
   "execution_count": 1,
   "metadata": {},
   "outputs": [],
   "source": [
    "#!/usr/bin/env python3\n",
    "#coding=utf-8\n",
    "import time\n",
    "import math\n",
    "import random as rd\n",
    "from Arm_Lib import Arm_Device\n",
    "\n",
    "Arm = Arm_Device()\n",
    "time.sleep(.1)"
   ]
  },
  {
   "cell_type": "code",
   "execution_count": 2,
   "metadata": {},
   "outputs": [
    {
     "name": "stdout",
     "output_type": "stream",
     "text": [
      "***Coord of object***\n",
      " Program closed! \n"
     ]
    },
    {
     "name": "stdin",
     "output_type": "stream",
     "text": [
      "X coord >>  \n"
     ]
    }
   ],
   "source": [
    "# Length of servo 2 : 4cm\n",
    "# standard(base) : a pair of boards between servo 1 and servo 2\n",
    "#   servo 2\n",
    "#    |   |\n",
    "#   ------- standard\n",
    "#   -------  (base)\n",
    "#   servo 1\n",
    "\n",
    "def main():\n",
    "    \n",
    "    print(\"***Coord of object***\")\n",
    "    x = int(input(\"X coord >> \"))\n",
    "    y = int(input(\"Y coord >> \"))\n",
    "    z = int(input(\"Z coord >> \"))\n",
    "    \n",
    "    while True:\n",
    "\n",
    "        slopeXY = float(y / x)\n",
    "        slopeXZ = float(z / x)\n",
    "        \n",
    "        print(\"slopeXY: \", slopeXY)\n",
    "        print(\"slopeXZ: \", slopeXZ)\n",
    "\n",
    "        theta1 = math.degrees(math.atan(slopeXY))\n",
    "        theta2 = math.degrees(math.atan(slopeXZ))\n",
    "\n",
    "        print(\"theta1: \", theta1)\n",
    "        print(\"theta2: \", theta2)\n",
    "\n",
    "        Arm.Arm_serial_servo_write(1, theta1, 1000)\n",
    "        Arm.Arm_serial_servo_write(2, theta2, 1000)\n",
    "        time.sleep(1)\n",
    "        \n",
    "        x += int(rd.uniform(-10.0, 10.0))\n",
    "        y += int(rd.uniform(-10.0, 10.0))\n",
    "        z += int(rd.uniform(-10.0, 10.0))\n",
    "        \n",
    "        if x == 0:\n",
    "            x += 1\n",
    "            \n",
    "        if z < 0:\n",
    "            z *= -1\n",
    "        \n",
    "        print(\"\")\n",
    "        print(\"----------\")\n",
    "        print(\"\")\n",
    "        print(\"X: \", x)\n",
    "        print(\"Y: \", y)\n",
    "        print(\"Z: \", z)\n",
    "        \n",
    "def reset_arm():\n",
    "    Arm.Arm_serial_servo_write(1, 0, 5000)\n",
    "    time.sleep(1)\n",
    "    Arm.Arm_serial_servo_write(2, 90, 5000)\n",
    "    time.sleep(1)\n",
    "    \n",
    "    \n",
    "try :\n",
    "    reset_arm()\n",
    "    main()\n",
    "except KeyboardInterrupt:\n",
    "    reset_arm()\n",
    "    print(\" Program closed! \")\n",
    "    pass"
   ]
  },
  {
   "cell_type": "code",
   "execution_count": null,
   "metadata": {},
   "outputs": [],
   "source": []
  }
 ],
 "metadata": {
  "kernelspec": {
   "display_name": "Python 3",
   "language": "python",
   "name": "python3"
  },
  "language_info": {
   "codemirror_mode": {
    "name": "ipython",
    "version": 3
   },
   "file_extension": ".py",
   "mimetype": "text/x-python",
   "name": "python",
   "nbconvert_exporter": "python",
   "pygments_lexer": "ipython3",
   "version": "3.8.10"
  }
 },
 "nbformat": 4,
 "nbformat_minor": 4
}
