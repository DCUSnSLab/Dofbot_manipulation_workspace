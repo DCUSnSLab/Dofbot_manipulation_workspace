{
 "cells": [
  {
   "cell_type": "code",
   "execution_count": 2,
   "metadata": {},
   "outputs": [],
   "source": [
    "#!/usr/bin/env python3\n",
    "#coding=utf-8\n",
    "import time\n",
    "from Arm_Lib import Arm_Device\n",
    "\n",
    "Arm = Arm_Device()\n",
    "time.sleep(.1)"
   ]
  },
  {
   "cell_type": "code",
   "execution_count": 2,
   "metadata": {},
   "outputs": [],
   "source": [
    "# Control a servo separately\n",
    "\n",
    "# id : servo number\n",
    "id = 6\n",
    "# ang : servo angle\n",
    "ang = 90\n",
    "# spd : servo speed\n",
    "spd = 500\n",
    "\n",
    "Arm.Arm_serial_servo_write(id, ang, spd)\n",
    "time.sleep(1)"
   ]
  },
  {
   "cell_type": "code",
   "execution_count": 3,
   "metadata": {},
   "outputs": [
    {
     "name": "stdin",
     "output_type": "stream",
     "text": [
      "Servo id(1~6) >>  6\n",
      "Servo angle(0~180) >>  180\n",
      "Servo speed >>  100\n"
     ]
    },
    {
     "name": "stdout",
     "output_type": "stream",
     "text": [
      "---\n",
      " Program closed! \n"
     ]
    }
   ],
   "source": [
    "# Control a servo  switch in loop\n",
    "\n",
    "def main():\n",
    "    while True:\n",
    "        id = int(input(\"Servo id(1~6) >> \"))\n",
    "        ang = int(input(\"Servo angle(0~180) >> \"))\n",
    "        spd = int(input(\"Servo speed >> \"))\n",
    "        print(\"---\")\n",
    "        Arm.Arm_serial_servo_write(id, ang, spd)\n",
    "        time.sleep(1)\n",
    "        \n",
    "def reset_arm():\n",
    "    Arm.Arm_serial_servo_write(1, 90, 500)\n",
    "    Arm.Arm_serial_servo_write(2, 90, 500)\n",
    "    Arm.Arm_serial_servo_write(3, 90, 500)\n",
    "    Arm.Arm_serial_servo_write(4, 90, 500)\n",
    "    Arm.Arm_serial_servo_write(5, 90, 500)\n",
    "    Arm.Arm_serial_servo_write(6, 180, 500)\n",
    "    \n",
    "try :\n",
    "    main()\n",
    "except KeyboardInterrupt:\n",
    "    #reset_arm()\n",
    "    print(\" Program closed! \")\n",
    "    pass"
   ]
  },
  {
   "cell_type": "code",
   "execution_count": null,
   "metadata": {},
   "outputs": [],
   "source": [
    "del Arm  # Release the Arm object"
   ]
  }
 ],
 "metadata": {
  "kernelspec": {
   "display_name": "Python 3",
   "language": "python",
   "name": "python3"
  },
  "language_info": {
   "codemirror_mode": {
    "name": "ipython",
    "version": 3
   },
   "file_extension": ".py",
   "mimetype": "text/x-python",
   "name": "python",
   "nbconvert_exporter": "python",
   "pygments_lexer": "ipython3",
   "version": "3.8.10"
  }
 },
 "nbformat": 4,
 "nbformat_minor": 4
}
