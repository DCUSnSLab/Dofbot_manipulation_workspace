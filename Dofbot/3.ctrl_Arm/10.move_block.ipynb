{
 "cells": [
  {
   "cell_type": "code",
   "execution_count": 1,
   "metadata": {},
   "outputs": [],
   "source": [
    "#!/usr/bin/env python3\n",
    "#coding=utf-8\n",
    "import time\n",
    "from Arm_Lib import Arm_Device\n",
    "\n",
    "# Get DOFBOT object\n",
    "Arm = Arm_Device()\n",
    "time.sleep(.1)"
   ]
  },
  {
   "cell_type": "code",
   "execution_count": 2,
   "metadata": {},
   "outputs": [],
   "source": [
    "# enable=1: clamp,=0: release\n",
    "def arm_clamp_block(enable):\n",
    "    if enable == 0:\n",
    "        Arm.Arm_serial_servo_write(6, 60, 400)\n",
    "    else:\n",
    "        Arm.Arm_serial_servo_write(6, 135, 400)\n",
    "    time.sleep(.5)\n",
    "\n",
    "    \n",
    "# Define control DOFBOT function, control No.1-No.5 servo，p=[S1,S2,S3,S4,S5]\n",
    "def arm_move(p, s_time = 500):\n",
    "    for i in range(5):\n",
    "        id = i + 1\n",
    "        if id == 5:\n",
    "            time.sleep(.1)\n",
    "            Arm.Arm_serial_servo_write(id, p[i], int(s_time*1.2))\n",
    "        else :\n",
    "            Arm.Arm_serial_servo_write(id, p[i], s_time)\n",
    "        time.sleep(.01)\n",
    "    time.sleep(s_time/1000)\n",
    "\n",
    "# DOFBOT moves up\n",
    "def arm_move_up():\n",
    "    Arm.Arm_serial_servo_write(2, 90, 1500)\n",
    "    Arm.Arm_serial_servo_write(3, 90, 1500)\n",
    "    Arm.Arm_serial_servo_write(4, 90, 1500)\n",
    "    time.sleep(.1)\n"
   ]
  },
  {
   "cell_type": "code",
   "execution_count": 3,
   "metadata": {},
   "outputs": [],
   "source": [
    "# Define variable parameters at different locations\n",
    "p_mould = [90, 130, 0, 0, 90]\n",
    "p_top = [90, 80, 50, 50, 270]\n",
    "\n",
    "p_Yellow = [65, 22, 64, 56, 270]\n",
    "p_Red = [117, 19, 66, 56, 270]\n",
    "\n",
    "p_Green = [136, 66, 20, 29, 270]\n",
    "p_Blue = [44, 66, 20, 28, 270]\n",
    "\n",
    "\n",
    "p_layer_4 = [90, 72, 49, 13, 270]\n",
    "p_layer_3 = [90, 66, 43, 20, 270]\n",
    "p_layer_2 = [90, 63, 34, 30, 270]\n",
    "p_layer_1 = [90, 53, 33, 36, 270]\n"
   ]
  },
  {
   "cell_type": "code",
   "execution_count": 4,
   "metadata": {},
   "outputs": [],
   "source": [
    "# Make the DOFBOT move to a position ready to grab\n",
    "arm_clamp_block(0)\n",
    "arm_move(p_mould, 1000)\n",
    "time.sleep(1)\n"
   ]
  },
  {
   "cell_type": "code",
   "execution_count": 5,
   "metadata": {},
   "outputs": [],
   "source": [
    "# Move the 4th floor blocks to the yellow area\n",
    "arm_move(p_top, 1000)\n",
    "arm_move(p_layer_4, 1000)\n",
    "arm_clamp_block(1)\n",
    "\n",
    "arm_move(p_top, 1000)\n",
    "arm_move(p_Yellow, 1000)\n",
    "arm_clamp_block(0)\n",
    "\n",
    "time.sleep(.1)\n",
    "\n",
    "arm_move_up()\n",
    "arm_move(p_mould, 1100)\n",
    "    \n",
    "# time.sleep(1)\n"
   ]
  },
  {
   "cell_type": "code",
   "execution_count": 6,
   "metadata": {},
   "outputs": [
    {
     "ename": "KeyboardInterrupt",
     "evalue": "",
     "output_type": "error",
     "traceback": [
      "\u001b[0;31m---------------------------------------------------------------------------\u001b[0m",
      "\u001b[0;31mKeyboardInterrupt\u001b[0m                         Traceback (most recent call last)",
      "\u001b[0;32m<ipython-input-6-2c542a498e1e>\u001b[0m in \u001b[0;36m<module>\u001b[0;34m\u001b[0m\n\u001b[1;32m      1\u001b[0m \u001b[0;31m# Move the 3th floor blocks to the red area\u001b[0m\u001b[0;34m\u001b[0m\u001b[0;34m\u001b[0m\u001b[0;34m\u001b[0m\u001b[0m\n\u001b[0;32m----> 2\u001b[0;31m \u001b[0marm_move\u001b[0m\u001b[0;34m(\u001b[0m\u001b[0mp_top\u001b[0m\u001b[0;34m,\u001b[0m \u001b[0;36m1000\u001b[0m\u001b[0;34m)\u001b[0m\u001b[0;34m\u001b[0m\u001b[0;34m\u001b[0m\u001b[0m\n\u001b[0m\u001b[1;32m      3\u001b[0m \u001b[0marm_move\u001b[0m\u001b[0;34m(\u001b[0m\u001b[0mp_layer_3\u001b[0m\u001b[0;34m,\u001b[0m \u001b[0;36m1000\u001b[0m\u001b[0;34m)\u001b[0m\u001b[0;34m\u001b[0m\u001b[0;34m\u001b[0m\u001b[0m\n\u001b[1;32m      4\u001b[0m \u001b[0marm_clamp_block\u001b[0m\u001b[0;34m(\u001b[0m\u001b[0;36m1\u001b[0m\u001b[0;34m)\u001b[0m\u001b[0;34m\u001b[0m\u001b[0;34m\u001b[0m\u001b[0m\n\u001b[1;32m      5\u001b[0m \u001b[0;34m\u001b[0m\u001b[0m\n",
      "\u001b[0;32m<ipython-input-2-e12f11c25b2f>\u001b[0m in \u001b[0;36marm_move\u001b[0;34m(p, s_time)\u001b[0m\n\u001b[1;32m     13\u001b[0m         \u001b[0mid\u001b[0m \u001b[0;34m=\u001b[0m \u001b[0mi\u001b[0m \u001b[0;34m+\u001b[0m \u001b[0;36m1\u001b[0m\u001b[0;34m\u001b[0m\u001b[0;34m\u001b[0m\u001b[0m\n\u001b[1;32m     14\u001b[0m         \u001b[0;32mif\u001b[0m \u001b[0mid\u001b[0m \u001b[0;34m==\u001b[0m \u001b[0;36m5\u001b[0m\u001b[0;34m:\u001b[0m\u001b[0;34m\u001b[0m\u001b[0;34m\u001b[0m\u001b[0m\n\u001b[0;32m---> 15\u001b[0;31m             \u001b[0mtime\u001b[0m\u001b[0;34m.\u001b[0m\u001b[0msleep\u001b[0m\u001b[0;34m(\u001b[0m\u001b[0;36m.1\u001b[0m\u001b[0;34m)\u001b[0m\u001b[0;34m\u001b[0m\u001b[0;34m\u001b[0m\u001b[0m\n\u001b[0m\u001b[1;32m     16\u001b[0m             \u001b[0mArm\u001b[0m\u001b[0;34m.\u001b[0m\u001b[0mArm_serial_servo_write\u001b[0m\u001b[0;34m(\u001b[0m\u001b[0mid\u001b[0m\u001b[0;34m,\u001b[0m \u001b[0mp\u001b[0m\u001b[0;34m[\u001b[0m\u001b[0mi\u001b[0m\u001b[0;34m]\u001b[0m\u001b[0;34m,\u001b[0m \u001b[0mint\u001b[0m\u001b[0;34m(\u001b[0m\u001b[0ms_time\u001b[0m\u001b[0;34m*\u001b[0m\u001b[0;36m1.2\u001b[0m\u001b[0;34m)\u001b[0m\u001b[0;34m)\u001b[0m\u001b[0;34m\u001b[0m\u001b[0;34m\u001b[0m\u001b[0m\n\u001b[1;32m     17\u001b[0m         \u001b[0;32melse\u001b[0m \u001b[0;34m:\u001b[0m\u001b[0;34m\u001b[0m\u001b[0;34m\u001b[0m\u001b[0m\n",
      "\u001b[0;31mKeyboardInterrupt\u001b[0m: "
     ]
    }
   ],
   "source": [
    "# Move the 3th floor blocks to the red area\n",
    "arm_move(p_top, 1000)\n",
    "arm_move(p_layer_3, 1000)\n",
    "arm_clamp_block(1)\n",
    "\n",
    "arm_move(p_top, 1000)\n",
    "arm_move(p_Red, 1000)\n",
    "arm_clamp_block(0)\n",
    "\n",
    "time.sleep(.1)\n",
    "\n",
    "arm_move_up()\n",
    "arm_move(p_mould, 1100)\n",
    "    \n",
    "# time.sleep(1)\n"
   ]
  },
  {
   "cell_type": "code",
   "execution_count": null,
   "metadata": {},
   "outputs": [],
   "source": [
    "# Move the 2nd floor blocks to the green area\n",
    "arm_move(p_top, 1000)\n",
    "arm_move(p_layer_2, 1000)\n",
    "arm_clamp_block(1)\n",
    "\n",
    "arm_move(p_top, 1000)\n",
    "arm_move(p_Green, 1000)\n",
    "arm_clamp_block(0)\n",
    "\n",
    "time.sleep(.1)\n",
    "\n",
    "arm_move_up()\n",
    "arm_move(p_mould, 1100)\n",
    "    \n",
    "# time.sleep(1)\n"
   ]
  },
  {
   "cell_type": "code",
   "execution_count": null,
   "metadata": {},
   "outputs": [],
   "source": [
    "# Move the 1st floor blocks to the blue area\n",
    "arm_move(p_top, 1000)\n",
    "arm_move(p_layer_1, 1000)\n",
    "arm_clamp_block(1)\n",
    "\n",
    "arm_move(p_top, 1000)\n",
    "arm_move(p_Blue, 1000)\n",
    "arm_clamp_block(0)\n",
    "\n",
    "time.sleep(.1)\n",
    "\n",
    "arm_move_up()\n",
    "arm_move(p_mould, 1100)\n",
    "    \n",
    "# time.sleep(1)"
   ]
  },
  {
   "cell_type": "code",
   "execution_count": null,
   "metadata": {},
   "outputs": [],
   "source": [
    "del Arm  # Release DOFBOT object"
   ]
  }
 ],
 "metadata": {
  "kernelspec": {
   "display_name": "Python 3",
   "language": "python",
   "name": "python3"
  },
  "language_info": {
   "codemirror_mode": {
    "name": "ipython",
    "version": 3
   },
   "file_extension": ".py",
   "mimetype": "text/x-python",
   "name": "python",
   "nbconvert_exporter": "python",
   "pygments_lexer": "ipython3",
   "version": "3.8.10"
  }
 },
 "nbformat": 4,
 "nbformat_minor": 4
}
